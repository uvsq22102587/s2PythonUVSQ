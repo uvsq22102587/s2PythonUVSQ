{
 "cells": [
  {
   "cell_type": "markdown",
   "metadata": {},
   "source": [
    "# Questions de cours \n",
    "\n",
    "1.Qu'est-ce qu'un pixel ?\n",
    "\n",
    "2.Quel format de stockage utilise-t-on pour stocker un pixel ?\n",
    "\n",
    "3.Donner la suite de 0 et de 1 permettant de stocker une image de 2 fois 2 qui part du noir en haut à gauche\n",
    "et devient plus rouge en allant à doite et plus bleu en allant vers le bas."
   ]
  },
  {
   "cell_type": "markdown",
   "metadata": {},
   "source": [
    "# Matrices"
   ]
  },
  {
   "cell_type": "markdown",
   "metadata": {},
   "source": [
    "Créer une matrice avec 3 lignes et 4 colonnes"
   ]
  },
  {
   "cell_type": "code",
   "execution_count": 75,
   "metadata": {},
   "outputs": [],
   "source": [
    "#définir la matrice sans utiliser de boucles\n",
    "mat = [[0, 0, 0, 0], [0, 0, 0, 0], [0, 0, 0, 0]]"
   ]
  },
  {
   "cell_type": "markdown",
   "metadata": {},
   "source": [
    "Faire une fonction `nbrCol(matrice)` qui retourne le nombre de colonnes d'une matrice \n",
    "et une fonction `nbrLig(matrice)` qui retourne le nombre de lignes d'une matrice"
   ]
  },
  {
   "cell_type": "code",
   "execution_count": 8,
   "metadata": {},
   "outputs": [
    {
     "ename": "NameError",
     "evalue": "name 'mat' is not defined",
     "output_type": "error",
     "traceback": [
      "\u001b[1;31m---------------------------------------------------------------------------\u001b[0m",
      "\u001b[1;31mNameError\u001b[0m                                 Traceback (most recent call last)",
      "\u001b[1;32m~\\AppData\\Local\\Temp/ipykernel_6924/1568319584.py\u001b[0m in \u001b[0;36m<module>\u001b[1;34m\u001b[0m\n\u001b[0;32m      5\u001b[0m     \u001b[1;32mreturn\u001b[0m\u001b[1;33m(\u001b[0m\u001b[0mlen\u001b[0m\u001b[1;33m(\u001b[0m\u001b[0mmatrice\u001b[0m\u001b[1;33m)\u001b[0m\u001b[1;33m)\u001b[0m\u001b[1;33m\u001b[0m\u001b[1;33m\u001b[0m\u001b[0m\n\u001b[0;32m      6\u001b[0m \u001b[1;33m\u001b[0m\u001b[0m\n\u001b[1;32m----> 7\u001b[1;33m \u001b[0mprint\u001b[0m\u001b[1;33m(\u001b[0m\u001b[0mnbrLig\u001b[0m\u001b[1;33m(\u001b[0m\u001b[0mmat\u001b[0m\u001b[1;33m)\u001b[0m\u001b[1;33m,\u001b[0m \u001b[0mnbrCol\u001b[0m\u001b[1;33m(\u001b[0m\u001b[0mmat\u001b[0m\u001b[1;33m)\u001b[0m\u001b[1;33m)\u001b[0m\u001b[1;33m\u001b[0m\u001b[1;33m\u001b[0m\u001b[0m\n\u001b[0m",
      "\u001b[1;31mNameError\u001b[0m: name 'mat' is not defined"
     ]
    }
   ],
   "source": [
    "def nbrCol(matrice):\n",
    "    return(len(matrice[0]))\n",
    "\n",
    "def nbrLig(matrice):\n",
    "    return(len(matrice))\n",
    "\n",
    "print(nbrLig(mat), nbrCol(mat))"
   ]
  },
  {
   "cell_type": "markdown",
   "metadata": {},
   "source": [
    "Remplir `mat` de 9 en utilisant deux boucles sur les index de la matrice."
   ]
  },
  {
   "cell_type": "code",
   "execution_count": 77,
   "metadata": {},
   "outputs": [
    {
     "name": "stdout",
     "output_type": "stream",
     "text": [
      "[[9, 9, 9, 9], [9, 9, 9, 9], [9, 9, 9, 9]]\n"
     ]
    }
   ],
   "source": [
    "def rempli9(matrice):\n",
    "    for i in range(0, nbrLig(matrice)):\n",
    "        for j in range(0, nbrCol(matrice)):\n",
    "            matrice[i][j] = 9\n",
    "    return matrice\n",
    "\n",
    "print(rempli9([[0, 0, 0, 0], [0, 0, 0, 0], [0, 0, 0, 0]]))"
   ]
  },
  {
   "cell_type": "markdown",
   "metadata": {},
   "source": [
    "Maintenant, remplir la matrice de 8 en parcourant les lignes, puis une boucle avec un index sur chacune de ces lignes."
   ]
  },
  {
   "cell_type": "code",
   "execution_count": 78,
   "metadata": {},
   "outputs": [
    {
     "name": "stdout",
     "output_type": "stream",
     "text": [
      "[[8, 8, 8, 8], [8, 8, 8, 8], [8, 8, 8, 8]]\n"
     ]
    }
   ],
   "source": [
    "def rempli8(matrice):\n",
    "    for i in range(0, nbrLig(matrice)):\n",
    "        for j in range(0, nbrCol(matrice)):\n",
    "            matrice[i][j] = 8\n",
    "    return matrice\n",
    "\n",
    "print(rempli8(mat))"
   ]
  },
  {
   "cell_type": "markdown",
   "metadata": {},
   "source": [
    "Créer une matrice de taille 50x50 qui ne contient que des 3."
   ]
  },
  {
   "cell_type": "code",
   "execution_count": 79,
   "metadata": {},
   "outputs": [],
   "source": [
    "#Utiliser une boucle dans la définition de la matrice\n",
    "\n",
    "mat=[[3 for i in range(0, 50)] for i in range(0, 50)]"
   ]
  },
  {
   "cell_type": "markdown",
   "metadata": {},
   "source": [
    "# Matrice de Pixels"
   ]
  },
  {
   "cell_type": "markdown",
   "metadata": {},
   "source": [
    "Importer les librairies suivantes :"
   ]
  },
  {
   "cell_type": "code",
   "execution_count": 4,
   "metadata": {},
   "outputs": [],
   "source": [
    "import tkinter as tk\n",
    "import PIL as pil\n",
    "from PIL import Image\n",
    "from PIL import ImageTk \n",
    "from tkinter import filedialog\n",
    "from tkinter import simpledialog"
   ]
  },
  {
   "cell_type": "markdown",
   "metadata": {},
   "source": [
    "Ajouter la fonction suivante à votre code, on ne demande pas de la comprendre en détail.\n",
    "Elle permet de stocker la matrice de pixels passée en paramètre `matPix` dans un fichier spécifié par `filename`."
   ]
  },
  {
   "cell_type": "code",
   "execution_count": 6,
   "metadata": {},
   "outputs": [],
   "source": [
    "def saving(matPix, filename):\n",
    "    toSave=pil.Image.new(\"RGBA\",(nbrCol(matPix),nbrLig(matPix)))\n",
    "    for i in range(nbrCol(matPix)):\n",
    "        for j in range(nbrLig(matPix)):\n",
    "            toSave.putpixel((i,j),matPix[j][i])\n",
    "    toSave.save(filename)"
   ]
  },
  {
   "cell_type": "markdown",
   "metadata": {},
   "source": [
    "Créer une matrice de pixels de taille 100x100 ainsi qu'une fonction qui met à vert les pixels à gauche de l'image et à bleu les pixels de la partie droite.\n",
    "Afin de visualiser l'image obtenue, on utilisera la fonction `saving` et on ouvrira le fichier ainsi généré."
   ]
  },
  {
   "cell_type": "code",
   "execution_count": 82,
   "metadata": {},
   "outputs": [],
   "source": [
    "#definir une nouvelle matrice 100x100\n",
    "matVB=[[0 for i in range(0, 1000)] for i in range(0, 1000)]\n",
    "def rempliVB(matrice):\n",
    "    for i in range(0, len(matrice[0])):\n",
    "        for j in range(0, len(matrice[0])):\n",
    "            if j <= len(matrice[0]) / 2:\n",
    "                matrice[i][j] = (000, 000, 256)\n",
    "            else:\n",
    "                matrice[i][j] = (000, 256, 000)\n",
    "    return matrice\n",
    "    \n",
    "rempliVB(matVB)\n",
    "saving(matVB,\"vertbleu.png\")"
   ]
  },
  {
   "cell_type": "markdown",
   "metadata": {},
   "source": [
    "Ajouter la fonction `loading` à votre code. Là non plus on ne demande pas de comprendre la fonction en détail.\n",
    "Elle prend une image en entrée et retourne une matrice de pixels."
   ]
  },
  {
   "cell_type": "code",
   "execution_count": 2,
   "metadata": {},
   "outputs": [],
   "source": [
    "def loading(filename):\n",
    "    toLoad=pil.Image.open(filename)\n",
    "    mat=[[(255,255,255,255)]*toLoad.size[0] for k in range(toLoad.size[1])]\n",
    "    for i in range(toLoad.size[1]):\n",
    "        for j in range(toLoad.size[0]):\n",
    "            mat[i][j]=toLoad.getpixel((j,i))\n",
    "    return mat"
   ]
  },
  {
   "cell_type": "markdown",
   "metadata": {},
   "source": [
    "En vous servant de la fonction 'loading', calculer le nombre de pixels dans une image `.bmp` de votre choix, puis calculer la taille de l'image en octets. Comparer avec la taille donnée par votre machine."
   ]
  },
  {
   "cell_type": "code",
   "execution_count": 84,
   "metadata": {},
   "outputs": [
    {
     "name": "stdout",
     "output_type": "stream",
     "text": [
      "885 x 500\n",
      "1327500.0\n"
     ]
    }
   ],
   "source": [
    "mat=loading(\"montgolfiere.bmp\")\n",
    "print(nbrCol(mat), \"x\", nbrLig(mat))\n",
    "tOctet = nbrCol(mat) * nbrLig(mat) * 24 / 8 \n",
    "print(tOctet)"
   ]
  },
  {
   "cell_type": "markdown",
   "metadata": {},
   "source": [
    "A l'aide de la fonction `loading`, modifier une image en ajoutant un rectangle noir au milieu de l'image."
   ]
  },
  {
   "cell_type": "code",
   "execution_count": 85,
   "metadata": {},
   "outputs": [],
   "source": [
    "matrice=loading(\"vertbleu.png\")\n",
    "\n",
    "def ajouteCarreNoir(mat):\n",
    "    x = int(len(matrice[0]) / 2) - 5\n",
    "    y = int(len(matrice) / 2) - 5\n",
    "    for i in range(0, 10):\n",
    "        x = int(len(matrice[0]) / 2) - 5\n",
    "        y += 1\n",
    "        for j in range(0, 10):\n",
    "            x += 1\n",
    "            matrice[y][x] = (000, 000, 000)\n",
    "\n",
    "ajouteCarreNoir(matrice)\n",
    "saving(matrice,\"vertbleumodif.png\")"
   ]
  },
  {
   "cell_type": "markdown",
   "metadata": {},
   "source": [
    "De la même manière ajouter un filtre qui ne conserve que la composante verte d'une image."
   ]
  },
  {
   "cell_type": "code",
   "execution_count": 86,
   "metadata": {},
   "outputs": [],
   "source": [
    "matrice=loading(\"tomate.png\")\n",
    "\n",
    "def filtre_vert(mat):\n",
    "    for i in range(0, len(mat)):\n",
    "        for j in range(0, len(mat[0])):\n",
    "            vert = matrice[i][j][1]\n",
    "            matrice[i][j] = (000, vert, 000)\n",
    "    return matrice\n",
    "\n",
    "filtre_vert(matrice)\n",
    "saving(matrice,\"tomateVert.png\")"
   ]
  },
  {
   "cell_type": "markdown",
   "metadata": {},
   "source": [
    "Créer une méthode qui permet d'afficher le négatif de l'image (on inverse la luminosité)."
   ]
  },
  {
   "cell_type": "code",
   "execution_count": 87,
   "metadata": {},
   "outputs": [],
   "source": [
    "matrice=loading(\"tomate.png\")\n",
    "\n",
    "def negatif(mat):   \n",
    "    for i in range(0, len(mat)):\n",
    "        for j in range(0, len(mat[0])):\n",
    "            couleur = list(matrice[i][j])\n",
    "            couleur = [256 - elem for elem in couleur]\n",
    "            matrice[i][j] = tuple(couleur)\n",
    "    return matrice\n",
    "\n",
    "negatif(matrice)\n",
    "saving(matrice,\"tomateNeg.png\")"
   ]
  },
  {
   "cell_type": "markdown",
   "metadata": {},
   "source": [
    "Créer une méthode qui permet d'afficher le symétrique de l'image par rapport à la droite verticale en son milieu."
   ]
  },
  {
   "cell_type": "code",
   "execution_count": 9,
   "metadata": {},
   "outputs": [],
   "source": [
    "matrice=loading(\"qr_code_ssfiltre_ascii_rotation.png\")\n",
    "\n",
    "def symetrique(mat):\n",
    "    matrice = [[0 for i in range(0, len(mat[0]))] for i in range(0, len(mat))]\n",
    "    for i in range(0, len(mat)):\n",
    "        for j in range(0, len(mat[0])):\n",
    "            matrice[i][j] = mat[i][len(mat[0]) - (j + 1)]\n",
    "    return matrice\n",
    "\n",
    "\n",
    "saving(symetrique(matrice),\"qrcodeSym.png\")"
   ]
  },
  {
   "cell_type": "code",
   "execution_count": null,
   "metadata": {},
   "outputs": [],
   "source": []
  }
 ],
 "metadata": {
  "kernelspec": {
   "display_name": "Python 3",
   "language": "python",
   "name": "python3"
  },
  "language_info": {
   "codemirror_mode": {
    "name": "ipython",
    "version": 3
   },
   "file_extension": ".py",
   "mimetype": "text/x-python",
   "name": "python",
   "nbconvert_exporter": "python",
   "pygments_lexer": "ipython3",
   "version": "3.9.7"
  }
 },
 "nbformat": 4,
 "nbformat_minor": 4
}

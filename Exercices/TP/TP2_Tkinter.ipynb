{
 "cells": [
  {
   "cell_type": "markdown",
   "metadata": {},
   "source": [
    "Commencer par importer 'tkinter' et les librairies nécessaires à l'aide des commandes suivantes :"
   ]
  },
  {
   "cell_type": "code",
   "execution_count": null,
   "metadata": {},
   "outputs": [],
   "source": [
    "import tkinter as tk\n",
    "import PIL as pil\n",
    "from PIL import Image\n",
    "from PIL import ImageTk \n",
    "from tkinter import filedialog\n",
    "from tkinter import simpledialog"
   ]
  },
  {
   "cell_type": "markdown",
   "metadata": {},
   "source": [
    "Créer une fenêtre tkinter qui a pour titre \"Rappel du premier Semestre\" et qui affiche le texte \"J'adore Python !\" dans la fenêtre"
   ]
  },
  {
   "cell_type": "code",
   "execution_count": null,
   "metadata": {},
   "outputs": [],
   "source": [
    "root = tk.Tk()\n",
    "root.title(\"Rappel du premier Semestre\")\n",
    "label = tk.Label(root, text=\"J'adore Python!\")\n",
    "label.grid()\n",
    "root.mainloop()"
   ]
  },
  {
   "cell_type": "markdown",
   "metadata": {},
   "source": [
    "Toujours dans la même fenêtre, ajouter maintenant un bouton permettant de quitter la fenêtre, il faudra pour cela \n",
    "créer une fonction callback `fermer_fenetre` qui appelle la méthode `destroy()`"
   ]
  },
  {
   "cell_type": "code",
   "execution_count": null,
   "metadata": {},
   "outputs": [],
   "source": [
    "root = tk.Tk()\n",
    "root.title(\"Rappel du premier Semestre\")\n",
    "label = tk.Label(root, text=\"J'adore Python!\")\n",
    "label.grid(column=0, row=0)\n",
    "bouton = tk.Button(root, text=\"ok men\", command= lambda : root.destroy())\n",
    "bouton.grid(column=0, row=1)\n",
    "root.mainloop()"
   ]
  },
  {
   "cell_type": "markdown",
   "metadata": {},
   "source": [
    "Maintenant nous allons modifier la disposition des différents éléments en utilisant une grille pour positionner les éléments dans la fenêtre. Ajouter un canevas rouge à droite du label et du bouton."
   ]
  },
  {
   "cell_type": "code",
   "execution_count": null,
   "metadata": {},
   "outputs": [],
   "source": [
    "#Faire un canevas de taile 300x300 pour que ce soit lisible\n",
    "root = tk.Tk()\n",
    "root.title(\"Rappel du premier Semestre\")\n",
    "canvas = tk.Canvas(width=300, height=300, bg=\"red\")\n",
    "canvas.grid(column=1, row=0, rowspan=10)\n",
    "label = tk.Label(root, text=\"J'adore Python!\")\n",
    "label.grid(column=0, row=0)\n",
    "bouton = tk.Button(root, text=\"ok men\", command= lambda : root.destroy())\n",
    "bouton.grid(column=0, row=1)\n",
    "root.mainloop()"
   ]
  },
  {
   "cell_type": "markdown",
   "metadata": {},
   "source": [
    "Ajouter un canevas noir en dessous du canevas rouge précédent. Faire une fonction qui permet de compter le nombre de clics sur le carré rouge. Afficher cette valeur dans le label qui servait à afficher \"j'adore python\". Attention, le compteur du nombre de clics est appelé dans une fonction callback, il faut donc le récupérer en dehors de cette fonction en le déclarant comme variable globale. Utiliser la méthode `bind` pour récupérer le clic de souris."
   ]
  },
  {
   "cell_type": "code",
   "execution_count": null,
   "metadata": {},
   "outputs": [],
   "source": [
    "#Faire un canevas de taile 300x300 pour que ce soit lisible\n",
    "root = tk.Tk()\n",
    "clic = 0\n",
    "root.title(\"Rappel du premier Semestre\")\n",
    "canvasRed = tk.Canvas(width=300, height=300, bg=\"red\")\n",
    "canvasRed.grid(column=1, row=0, rowspan=1)\n",
    "label1 = tk.Label(root, text=\"J'adore Python!\")\n",
    "def compte(event):\n",
    "    global clic, label1\n",
    "    clic += 1\n",
    "    label1.grid_remove()\n",
    "    label1 = tk.Label(root, text=str(clic))\n",
    "    label1.grid(column=0, row=0)\n",
    "    \n",
    "label1.grid(column=0, row=0)\n",
    "canvasBlack = tk.Canvas(width=300, height=300, bg=\"black\")\n",
    "canvasBlack.grid(column=1, row=1, rowspan=1)\n",
    "canvasRed.bind(\"<Button-1>\", compte)\n",
    "bouton = tk.Button(root, text=\"ok men\", command= lambda : root.destroy())\n",
    "bouton.grid(column=0, row=1)\n",
    "root.mainloop()"
   ]
  },
  {
   "cell_type": "markdown",
   "metadata": {},
   "source": [
    "Créer une unique fonction qui renvoie la couleur du canevas sur lequel on a double-cliqué.\n",
    "Afficher la couleur à la place du compteur précédent."
   ]
  },
  {
   "cell_type": "code",
   "execution_count": null,
   "metadata": {},
   "outputs": [],
   "source": [
    "#Faire un canevas de taile 300x300 pour que ce soit lisible\n",
    "root = tk.Tk()\n",
    "clic = 0\n",
    "root.title(\"Rappel du premier Semestre\")\n",
    "canvasRed = tk.Canvas(width=300, height=300, bg=\"red\")\n",
    "canvasRed.grid(column=1, row=0, rowspan=1)\n",
    "label1 = tk.Label(root, text=\"J'adore Python!\")\n",
    "label1.grid(column=0, row=0)\n",
    "\n",
    "\n",
    "def compte(event):\n",
    "    global label1\n",
    "    x = event.x\n",
    "    y = event.y\n",
    "    print(x)\n",
    "    label1.grid_remove()\n",
    "    label1 = tk.Label(root, text=color)\n",
    "    label1.grid(column=0, row=0)\n",
    "    \n",
    "\n",
    "\n",
    "canvasBlack = tk.Canvas(width=300, height=300, bg=\"black\")\n",
    "canvasBlack.grid(column=1, row=1, rowspan=1)\n",
    "canvasBlack.bind(\"<Button-1>\", compte)\n",
    "canvasRed.bind(\"<Button-1>\", compte)\n",
    "bouton = tk.Button(root, text=\"ok men\", command= lambda : root.destroy())\n",
    "bouton.grid(column=0, row=1)\n",
    "root.mainloop()"
   ]
  },
  {
   "cell_type": "markdown",
   "metadata": {},
   "source": [
    "REMARQUE : Attention à ne pas mettre deux `bind` différents qui se déclenchent \n",
    "sur une même action sinon seul le dernier sera réalisé.\n",
    "En effet, la variable `event` va être modifiée deux fois et seule sa dernière modification sera donc prise en compte."
   ]
  },
  {
   "cell_type": "markdown",
   "metadata": {},
   "source": [
    "Créer une nouvelle fenêtre qui permet de charger une image depuis un fichier en utilisant la fonction `charger(widg)`. \n",
    "Vous allez devoir passer un paramètre dans la fonction callback `charger`. On ne demande pas de comprendre le fonctionnement de la fonction `charger`."
   ]
  },
  {
   "cell_type": "code",
   "execution_count": null,
   "metadata": {},
   "outputs": [],
   "source": [
    "create=True\n",
    "\n",
    "def charger(widg):\n",
    "    global create\n",
    "    global photo\n",
    "    global img\n",
    "    global canvas\n",
    "    filename= filedialog.askopenfile(mode='rb', title='Choose a file')\n",
    "    img = pil.Image.open(filename)\n",
    "    photo = ImageTk.PhotoImage(img)\n",
    "    print(photo)\n",
    "    if create:    \n",
    "        canvas = tk.Canvas(widg, width = img.size[0], height = img.size[1])\n",
    "        canvas.create_image(0,0,anchor = tk.NW, image=photo)\n",
    "        canvas.pack()\n",
    "        create=False\n",
    "        \n",
    "    else:\n",
    "        canvas.pack_forget()\n",
    "        canvas = tk.Canvas(widg, width = img.size[0], height = img.size[1])\n",
    "        canvas.create_image(0,0,anchor = tk.NW, image=photo)\n",
    "        canvas.pack()\n",
    "\n",
    "root = tk.Tk()\n",
    "root.title(\"zebi\")\n",
    "canvas = tk.Canvas(root, width=200, height=200)\n",
    "canvas.grid()\n",
    "charger(widg=canvas)"
   ]
  },
  {
   "cell_type": "code",
   "execution_count": null,
   "metadata": {},
   "outputs": [],
   "source": []
  },
  {
   "cell_type": "markdown",
   "metadata": {},
   "source": [
    "(Question supplémentaire) Faire une fenêtre qui :\n",
    "- Permet de taper dans une zone de texte\n",
    "- A un label d'affichage\n",
    "- A deux boutons, respectivement \"Bouton1\" et \"Bouton2\" permettant d'afficher dans le label le numéro du bouton sur lequel on a cliqué\n",
    "- A un dernier bouton qui permet d'afficher dans le label le texte tapé dans la zone de texte"
   ]
  },
  {
   "cell_type": "code",
   "execution_count": null,
   "metadata": {},
   "outputs": [],
   "source": []
  }
 ],
 "metadata": {
  "kernelspec": {
   "display_name": "Python 3",
   "language": "python",
   "name": "python3"
  },
  "language_info": {
   "codemirror_mode": {
    "name": "ipython",
    "version": 3
   },
   "file_extension": ".py",
   "mimetype": "text/x-python",
   "name": "python",
   "nbconvert_exporter": "python",
   "pygments_lexer": "ipython3",
   "version": "3.9.7"
  }
 },
 "nbformat": 4,
 "nbformat_minor": 4
}

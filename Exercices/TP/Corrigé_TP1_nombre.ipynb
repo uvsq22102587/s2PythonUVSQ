{
 "cells": [
  {
   "cell_type": "markdown",
   "metadata": {},
   "source": [
    "# TD1 Représentation de nombres"
   ]
  },
  {
   "cell_type": "markdown",
   "metadata": {},
   "source": [
    "Exercice sur papier:\n",
    "\n",
    "1. Convertir en binaire le nombre 115 (division successive par 2).\n",
    "\n",
    "115 : 2*57 + 1\n",
    "57: 2*28+1\n",
    "28: 2*14 + 0\n",
    "14: 2*7 + 0\n",
    "7: 2*3 +1\n",
    "3:2*1+1\n",
    "1: 2*0+1\n",
    "\n",
    "1110011\n",
    "\n",
    "1*2^0 + 1 * 2^1 + 0*2^2 +...+\n",
    "\n",
    "2. Donner la représentation de -115 en complément à 2 sur 8 bits.\n",
    "\n",
    "1 : 00000001\n",
    "-1: 11111111\n",
    "\n",
    "01110011 -> 10001100\n",
    "-115 -> 10001101\n",
    "\n",
    "3. Donner la représentation de 12,625 comme un flottant. \n",
    "\n",
    "1 bit signe + 8bits exposant + 23 bits mantisse\n",
    "\n",
    "\n",
    "12 -> 1100,101\n",
    "1,100101*2^3\n",
    "\n",
    "e : 127+3 -> 10000010\n",
    "\n",
    "mantisse : 100101\n",
    "\n",
    "0 10000010 100101000000000000000000\n",
    "\n",
    "16,0625 comme un flottant\n",
    "\n",
    "16 -> 10000,0001\n",
    "= 1,00000001*2^4\n",
    "e=127+4 -> 10000011\n",
    "\n",
    "mantisse: 00000001"
   ]
  },
  {
   "cell_type": "code",
   "execution_count": 26,
   "metadata": {},
   "outputs": [
    {
     "data": {
      "text/plain": [
       "10.0"
      ]
     },
     "execution_count": 26,
     "metadata": {},
     "output_type": "execute_result"
    }
   ],
   "source": []
  },
  {
   "cell_type": "markdown",
   "metadata": {},
   "source": [
    "On représente un entier en binaire par une liste de 0 et de 1. Donner une fonction `conversionBase2(nombre)`\n",
    "qui transforme un entier en sa représentation binaire. Attention, les bits sont calculés dans l'ordre inverse\n",
    "(little endian), il faudra sans doute renverser la liste avec la méthode `.reverse()`."
   ]
  },
  {
   "cell_type": "code",
   "execution_count": 2,
   "metadata": {},
   "outputs": [
    {
     "data": {
      "text/plain": [
       "[1, 1, 1, 0, 0, 1, 1]"
      ]
     },
     "execution_count": 2,
     "metadata": {},
     "output_type": "execute_result"
    }
   ],
   "source": [
    "def conversionBase2(nombre):\n",
    "    if(nombre==0):\n",
    "        return [0]\n",
    "    res = []\n",
    "    while nombre>0:\n",
    "        res.append(nombre%2)\n",
    "        nombre=nombre//2\n",
    "    res.reverse()\n",
    "    return res\n",
    "    \n",
    "conversionBase2(115)"
   ]
  },
  {
   "cell_type": "markdown",
   "metadata": {},
   "source": [
    "Faire une fonction d'affichage d'une liste représentant un nombre en binaire. Pour afficher avec `print` sans passer à la ligne il faut utiliser l'argument optionnel end=\"\"."
   ]
  },
  {
   "cell_type": "code",
   "execution_count": 3,
   "metadata": {},
   "outputs": [
    {
     "name": "stdout",
     "output_type": "stream",
     "text": [
      "1110011"
     ]
    }
   ],
   "source": [
    "def afficheBase(liste):\n",
    "    for a in liste:\n",
    "        print(a,end=\"\")\n",
    "\n",
    "afficheBase(conversionBase2(115))"
   ]
  },
  {
   "cell_type": "markdown",
   "metadata": {},
   "source": [
    "Convertir un nombre dans n'importe quelle base b (représentée comme une liste des chiffres dans cette base).\n",
    "Que faut-il changer dans `conversionBase2` pour gérer n'importe quelle base ?"
   ]
  },
  {
   "cell_type": "code",
   "execution_count": 7,
   "metadata": {},
   "outputs": [
    {
     "data": {
      "text/plain": [
       "[2, 2, 11, 8]"
      ]
     },
     "execution_count": 7,
     "metadata": {},
     "output_type": "execute_result"
    }
   ],
   "source": [
    "def conversionBase(nombre,b):\n",
    "    if(nombre==0):\n",
    "        return [0]\n",
    "    res = []\n",
    "    while nombre>0:\n",
    "        res.append(nombre%b)\n",
    "        nombre=nombre//b\n",
    "    res.reverse()\n",
    "    return res\n",
    "\n",
    "conversionBase(8888,16)\n"
   ]
  },
  {
   "cell_type": "markdown",
   "metadata": {},
   "source": [
    "Quels sont les nombres entiers qu'on peut écrire avec n chiffres en base b ?"
   ]
  },
  {
   "cell_type": "markdown",
   "metadata": {},
   "source": [
    "Écrire une fonction d'affichage pour un nombre en Hexadécimal (en base 16).\n",
    "On rappelle que 10 doit être représenté par A, 11 par B ..."
   ]
  },
  {
   "cell_type": "code",
   "execution_count": 13,
   "metadata": {},
   "outputs": [
    {
     "name": "stdout",
     "output_type": "stream",
     "text": [
      "10001010111000"
     ]
    }
   ],
   "source": [
    "def afficheBaseHexa(liste):\n",
    "    for v in liste:\n",
    "        if(v<10):\n",
    "            print(v, end=\"\")\n",
    "        if(v == 10):\n",
    "            print('A',end=\"\")\n",
    "        if(v == 11):\n",
    "            print('B',end=\"\")\n",
    "        if(v == 12):\n",
    "            print('C',end=\"\")\n",
    "        if(v == 13):\n",
    "            print('D',end=\"\")\n",
    "        if(v == 14):\n",
    "            print('E',end=\"\")\n",
    "        if(v == 15):\n",
    "            print('F',end=\"\")\n",
    "       \n",
    "            \n",
    "\n",
    "afficheBase(conversionBase(8888,2))"
   ]
  },
  {
   "cell_type": "markdown",
   "metadata": {},
   "source": [
    "Donner la valeur de $(1001101)_2$ (dans la représentation traditionnelle en base 10).\n",
    "Écrire une fonction qui transforme la représentation en base b d'un entier en cet entier."
   ]
  },
  {
   "cell_type": "code",
   "execution_count": 14,
   "metadata": {},
   "outputs": [
    {
     "data": {
      "text/plain": [
       "115"
      ]
     },
     "execution_count": 14,
     "metadata": {},
     "output_type": "execute_result"
    }
   ],
   "source": [
    "def conversionEntier(liste,b):\n",
    "    res = 0\n",
    "    for a in range(len(liste)):\n",
    "        res+= liste[a]*b**(len(liste)-a-1)\n",
    "\n",
    "    return res\n",
    "\n",
    "\n",
    "test = conversionBase(115,2)\n",
    "conversionEntier(test,2)\n"
   ]
  },
  {
   "cell_type": "markdown",
   "metadata": {},
   "source": [
    "Additioner $(10001101)_2$ et $(10111001)_2$ à la main. \n",
    "\n",
    "101000110\n",
    "\n",
    "\n",
    "100010\n",
    "11"
   ]
  },
  {
   "cell_type": "markdown",
   "metadata": {},
   "source": [
    "On a `l` un nombre en base b et on veut l'écrire sur n chiffres (en ajoutant des 0 devant). Donner une fonction pour réaliser cette transformation."
   ]
  },
  {
   "cell_type": "code",
   "execution_count": 16,
   "metadata": {},
   "outputs": [
    {
     "data": {
      "text/plain": [
       "[0, 0, 0, 1, 1, 1, 0, 0, 1, 1]"
      ]
     },
     "execution_count": 16,
     "metadata": {},
     "output_type": "execute_result"
    }
   ],
   "source": [
    "def etendreEcriture(l,n):\n",
    "    while len(l)<n:\n",
    "        l=[0]+l\n",
    "    return l\n",
    "etendreEcriture(test,10)"
   ]
  },
  {
   "cell_type": "markdown",
   "metadata": {},
   "source": [
    "\n",
    "Créer une liste contenant 5 zéro\n"
   ]
  },
  {
   "cell_type": "code",
   "execution_count": 18,
   "metadata": {},
   "outputs": [
    {
     "data": {
      "text/plain": [
       "[0, 0, 0, 0, 0]"
      ]
     },
     "execution_count": 18,
     "metadata": {},
     "output_type": "execute_result"
    }
   ],
   "source": [
    "[0 for a in range (5)]"
   ]
  },
  {
   "cell_type": "markdown",
   "metadata": {},
   "source": [
    "Réaliser ensuite un programme qui additionne la représentation en base b de deux entiers.\n",
    "On pourra utiliser la méthode `.insert(pos,val)` qui ajoute val à la position pos."
   ]
  },
  {
   "cell_type": "code",
   "execution_count": 24,
   "metadata": {},
   "outputs": [
    {
     "data": {
      "text/plain": [
       "[1, 1, 0, 0, 1]"
      ]
     },
     "execution_count": 24,
     "metadata": {},
     "output_type": "execute_result"
    }
   ],
   "source": [
    "def additionTricheur(l1,l2,b):\n",
    "    return conversionBase((conversionEntier(l1,b)+conversionEntier(l2,b)),b)\n",
    "\n",
    "#Algorithme d'addition du primaire\n",
    "\n",
    "def addition(l1,l2,b):\n",
    "    if(len(l1) > len(l2)):\n",
    "        l2 = etendreEcriture(l2,len(l1))\n",
    "    else:\n",
    "        l1 = etendreEcriture(l1,len(l2))\n",
    "    res=[]\n",
    "    retenue=False\n",
    "    for i in range (len(l1)):\n",
    "        somme=l1[len(l1)-i-1]+l2[len(l2)-i-1]\n",
    "        if(retenue):\n",
    "            somme+=1\n",
    "            retenue=False\n",
    "        if(somme>=b):\n",
    "            res.append(somme-b)\n",
    "            retenue=True\n",
    "        else:\n",
    "            res.append(somme)\n",
    "    res.reverse()\n",
    "    return res\n",
    "\n",
    "test1 = conversionBase(7,2)\n",
    "test2 = conversionBase(18,2)\n",
    "\n",
    "additionTricheur(test1,test2,2)"
   ]
  },
  {
   "cell_type": "code",
   "execution_count": null,
   "metadata": {},
   "outputs": [],
   "source": []
  }
 ],
 "metadata": {
  "kernelspec": {
   "display_name": "Python 3",
   "language": "python",
   "name": "python3"
  },
  "language_info": {
   "codemirror_mode": {
    "name": "ipython",
    "version": 3
   },
   "file_extension": ".py",
   "mimetype": "text/x-python",
   "name": "python",
   "nbconvert_exporter": "python",
   "pygments_lexer": "ipython3",
   "version": "3.8.5"
  }
 },
 "nbformat": 4,
 "nbformat_minor": 4
}

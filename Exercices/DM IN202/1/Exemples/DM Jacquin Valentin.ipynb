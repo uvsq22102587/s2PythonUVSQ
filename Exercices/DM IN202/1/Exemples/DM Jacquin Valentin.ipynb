{
 "cells": [
  {
   "cell_type": "code",
   "execution_count": 10,
   "metadata": {},
   "outputs": [],
   "source": [
    "import PIL as pil\n",
    "from PIL import Image\n",
    "from PIL import ImageTk \n",
    "\n",
    "def nbrCol(matrice):\n",
    "    return(len(matrice[0]))\n",
    "\n",
    "def nbrLig(matrice):\n",
    "    return(len(matrice))\n",
    "\n",
    "def saving(matPix, filename):\n",
    "    #sauvegarde l'image contenue dans matpix dans le fichier filename\n",
    "\t#utiliser une extension png pour que la fonction fonctionne sans perte d'information\n",
    "    toSave=pil.Image.new(mode = \"1\", size = (nbrCol(matPix),nbrLig(matPix)))\n",
    "    for i in range(nbrLig(matPix)):\n",
    "        for j in range(nbrCol(matPix)):\n",
    "            toSave.putpixel((j,i),matPix[i][j])\n",
    "    toSave.save(filename)\n",
    "\n",
    "def loading(filename):#charge le fichier image filename et renvoie une matrice de 0 et de 1 qui représente \n",
    "\t\t\t\t\t  #l'image en noir et blanc\n",
    "    toLoad = pil.Image.open(filename)\n",
    "    mat = [[0]*toLoad.size[0] for k in range(toLoad.size[1])]\n",
    "    for i in range(toLoad.size[1]):\n",
    "        for j in range(toLoad.size[0]):\n",
    "            mat[i][j]= 0 if toLoad.getpixel((j,i)) == 0 else 1\n",
    "    return mat\n"
   ]
  },
  {
   "cell_type": "code",
   "execution_count": 4,
   "metadata": {},
   "outputs": [],
   "source": [
    "def creerQRC():\n",
    "    qRCode = [[1 for i in range(25)] for i in range(25)]\n",
    "    # création des carrées pleins\n",
    "    y = - 1\n",
    "    for i in range(0, 7):\n",
    "        x = 0\n",
    "        y += 1\n",
    "        for j in range(0, 7):\n",
    "            qRCode[y][x] = 0\n",
    "            x += 1\n",
    "    y = -1\n",
    "    for i in range(0, 7):\n",
    "        x = 18\n",
    "        y += 1\n",
    "        for j in range(0, 7):\n",
    "            qRCode[y][x] = 0\n",
    "            x += 1\n",
    "    y = 17\n",
    "    for i in range(0, 7):\n",
    "        x = 0\n",
    "        y += 1\n",
    "        for j in range(0, 7):\n",
    "            qRCode[y][x] = 0\n",
    "            x += 1\n",
    "    # création des lignes en poitillés\n",
    "    for i in range(6, 18, 2):\n",
    "        qRCode[6][i] = 0\n",
    "    for i in range(6, 18, 2):\n",
    "        qRCode[i][6] = 0\n",
    "    # création des lignes blanche intra-carrées\n",
    "    for i in range(1, 6):\n",
    "        # ligne du haut\n",
    "        qRCode[1][i] = 1\n",
    "    for i in range(1, 6):\n",
    "        #ligne de gauche\n",
    "        qRCode[i][1] = 1\n",
    "    for i in range(1, 6):\n",
    "        # ligne de droite\n",
    "        qRCode[i][5] = 1\n",
    "    for i in range(1, 6):\n",
    "        # ligne du bas\n",
    "        qRCode[5][i] = 1\n",
    "    # Deuxième carré lignes blanches\n",
    "    for i in range(19, 24):\n",
    "        # ligne du haut\n",
    "        qRCode[1][i] = 1\n",
    "    for i in range(1, 6):\n",
    "        # ligne de gauche\n",
    "        qRCode[i][19] = 1\n",
    "    for i in range(1, 6):\n",
    "        # ligne de droite\n",
    "        qRCode[i][23] = 1\n",
    "    for i in range(19, 24):\n",
    "        # ligne du bas\n",
    "        qRCode[5][i] = 1\n",
    "    # Troisième carré lignes blanches\n",
    "    for i in range(1, 6):\n",
    "        # ligne du haut\n",
    "        qRCode[19][i] = 1\n",
    "    for i in range(19, 24):\n",
    "        # ligne de gauche \n",
    "        qRCode[i][1] = 1\n",
    "    for i in range(19, 24):\n",
    "        # ligne de droite\n",
    "        qRCode[i][5] = 1\n",
    "    for i in range(1, 6):\n",
    "        # ligne du bas\n",
    "        qRCode[23][i] = 1\n",
    "    return qRCode\n"
   ]
  },
  {
   "cell_type": "code",
   "execution_count": 5,
   "metadata": {},
   "outputs": [],
   "source": [
    "def rotationQRC(matrice):\n",
    "    matrice1 = [[1 for i in range(25)] for j in range(25)]\n",
    "    for i in range(25):\n",
    "        ligne = []\n",
    "        for j in range(25):\n",
    "            ligne.append(matrice[j][i])\n",
    "        ligne.reverse()\n",
    "        matrice1[i] = ligne\n",
    "    return matrice1\n",
    "\n",
    "def extraireCoin(matrice, taillecoin):\n",
    "    \"\"\"Fonction qui prend une matrice de pixel et qui en sort les 4 coins sous forme de liste.\"\"\"\n",
    "    coinGaucheHaut = [[matrice[i][j] for i in range(0, taillecoin)] for j in range(0, taillecoin)]\n",
    "    coinDroitHaut = [[matrice[i][j] for i in range(0, taillecoin)] for j in range(len(matrice) - taillecoin, len(matrice))]\n",
    "    coinGaucheBas = [[matrice[i][j] for i in range(len(matrice) - taillecoin, len(matrice))] for j in range(0, taillecoin)]\n",
    "    return (coinGaucheHaut, coinDroitHaut, coinGaucheBas)\n",
    "\n",
    "def verifQRC(matrice):\n",
    "    \"\"\"Fonction qui compare les coins d'une matrice de pixels et qui les compare à un QRCODE.\n",
    "    Si la matrice est bien un QRcode, elle le tourne pour qu'il puisse être dans le bon sens.\"\"\"\n",
    "    averif = extraireCoin(matrice, 7)\n",
    "    temoin = extraireCoin(creerQRC(), 7)\n",
    "    while averif != temoin:\n",
    "        matrice = rotationQRC(matrice)\n",
    "        averif = extraireCoin(matrice, 7)\n",
    "    return matrice"
   ]
  },
  {
   "cell_type": "code",
   "execution_count": 6,
   "metadata": {},
   "outputs": [
    {
     "data": {
      "text/plain": [
       "False"
      ]
     },
     "execution_count": 6,
     "metadata": {},
     "output_type": "execute_result"
    }
   ],
   "source": [
    "def verifLignesQRC(matrice):\n",
    "    check = True\n",
    "    for i in range(6, 18):\n",
    "        if matrice[6][i] != (i % 2):\n",
    "            check = False\n",
    "    for i in range(6, 18):\n",
    "        if matrice[i][6] != (i % 2):\n",
    "            check = False\n",
    "    return check\n",
    "\n",
    "verifLignesQRC(loading(\"qr_code_ssfiltre_ascii_rotation.png\"))"
   ]
  },
  {
   "cell_type": "code",
   "execution_count": 22,
   "metadata": {},
   "outputs": [],
   "source": [
    "def correctionHamming(bits):\n",
    "    # calcul bits de controle\n",
    "    p1 = bits[2] ^ bits[4] ^ bits[6]\n",
    "    p2 = bits[2] ^ bits[5] ^ bits[6]\n",
    "    p3 = bits[4] ^ bits[5] ^ bits[6]\n",
    "    # position erreur\n",
    "    num = int(p1 != bits[0]) + int(p2 != bits[1])*2 + int(p3 != bits[3]) * 4\n",
    "    if num in [3, 5, 6, 7]:\n",
    "        # on remplace bits[num-1] par 0 s'il valait 1 et par 1 si il valait 0\n",
    "        bits[num-1] = int(not bits[num - 1])\n",
    "        print(\"corection d'un pixel corrompu en position \" + str(num) + \"\\n\")\n",
    "        return [bits[2], bits[4], bits[5], bits[6]]\n",
    "    else:\n",
    "        return [bits[2], bits[4], bits[5], bits[6]]\n",
    "\n",
    "def HammingRead(matrice):\n",
    "    \"\"\"Fonction qui prend une matrice de pixels et la lit en effectuant la vérification via le code de Hamming.\"\"\"\n",
    "    donnees = []\n",
    "    bloc = []\n",
    "    etage = 0\n",
    "    while len(donnees) < 32:\n",
    "        for i in range(0, 28):\n",
    "            if i % 2 == 0:\n",
    "                y = len(matrice) - 1 - etage * 2\n",
    "            else:\n",
    "                y = len(matrice) - 2 - etage * 2\n",
    "            x = (len(matrice) - 1) - (i // 2)\n",
    "            bit = matrice[y][x]\n",
    "            bloc.append(bit)\n",
    "            if len(bloc) == 7:\n",
    "                bloc = correctionHamming(bloc)\n",
    "                donnees.extend(bloc)\n",
    "                bloc = []\n",
    "        etage += 1\n",
    "        for i in range(0, 28):\n",
    "            if i % 2 == 0:\n",
    "                y = len(matrice) - 1 - etage * 2\n",
    "            else:\n",
    "                y = len(matrice) - 2 - etage * 2\n",
    "            x = 11 + (i // 2)\n",
    "            bit = matrice[y][x]\n",
    "            bloc.append(bit)\n",
    "            if len(bloc) == 7:\n",
    "                bloc = correctionHamming(bloc)\n",
    "                donnees.extend(bloc)\n",
    "                bloc = []\n",
    "        etage += 1\n",
    "    return donnees"
   ]
  },
  {
   "cell_type": "code",
   "execution_count": 38,
   "metadata": {},
   "outputs": [
    {
     "data": {
      "text/plain": [
       "'QX®g'"
      ]
     },
     "execution_count": 38,
     "metadata": {},
     "output_type": "execute_result"
    }
   ],
   "source": [
    "def to_ascii(data:list):\n",
    "    \"\"\"Fonction qui prend une liste de bits et qui les convertit en caractères ascii.\"\"\"\n",
    "    ascii = \"\"\n",
    "    resultat = \"\"\n",
    "    for i in range(0, len(data)):\n",
    "        ascii += str(data[i])\n",
    "        if len(ascii) == 8:\n",
    "            resultat += chr(int(ascii, 2))\n",
    "            ascii = \"\"\n",
    "    resultat += ascii\n",
    "    return resultat\n",
    "\n",
    "to_ascii(HammingRead(loading(\"qr_code_damier_ascii.png\")))\n"
   ]
  },
  {
   "cell_type": "code",
   "execution_count": 1,
   "metadata": {},
   "outputs": [
    {
     "name": "stdout",
     "output_type": "stream",
     "text": [
      "13\n"
     ]
    }
   ],
   "source": [
    "str = \"likue56A#bi91\"\n",
    "print(len(str))"
   ]
  },
  {
   "cell_type": "code",
   "execution_count": null,
   "metadata": {},
   "outputs": [],
   "source": []
  }
 ],
 "metadata": {
  "interpreter": {
   "hash": "ad5d0a67683f781fd70b759d698856a252a2af45fd2972ddf6f29281b471455d"
  },
  "kernelspec": {
   "display_name": "Python 3.9.7",
   "language": "python",
   "name": "python3"
  },
  "language_info": {
   "codemirror_mode": {
    "name": "ipython",
    "version": 3
   },
   "file_extension": ".py",
   "mimetype": "text/x-python",
   "name": "python",
   "nbconvert_exporter": "python",
   "pygments_lexer": "ipython3",
   "version": "3.9.7"
  },
  "orig_nbformat": 4
 },
 "nbformat": 4,
 "nbformat_minor": 2
}

{
 "cells": [
  {
   "cell_type": "code",
   "execution_count": null,
   "metadata": {},
   "outputs": [],
   "source": [
    "t = [0] * 100\n",
    "for i in range(100):\n",
    "    if i%3:\n",
    "        t[i] = i\n",
    "    else:\n",
    "        t[i] = -i\n",
    "print(t[98], t[99])"
   ]
  },
  {
   "cell_type": "code",
   "execution_count": null,
   "metadata": {},
   "outputs": [],
   "source": [
    "def f(y):\n",
    "    global x\n",
    "    x, y = x * 2, y + 1\n",
    "x, y = 3, -1\n",
    "f(y)\n",
    "print(x, y)"
   ]
  },
  {
   "cell_type": "code",
   "execution_count": null,
   "metadata": {},
   "outputs": [],
   "source": [
    "def f(n):\n",
    "    if n%2 == 0:\n",
    "        return n // 2\n",
    "    return 3 * n + 1\n",
    "v = 7\n",
    "for i in range(4):\n",
    "    v = f(v)\n",
    "print(v)"
   ]
  },
  {
   "cell_type": "code",
   "execution_count": null,
   "metadata": {},
   "outputs": [],
   "source": [
    "fic=open(\"entier.txt\",\"r\")\n",
    "line = fic.readline()\n",
    "print(line)\n",
    "val = line.split()\n",
    "print(val)\n",
    "print(val[0] + val[1])\n",
    "fic.close()"
   ]
  },
  {
   "cell_type": "code",
   "execution_count": null,
   "metadata": {},
   "outputs": [],
   "source": [
    "fic=open(\"result.txt\", \"w\")\n",
    "for i in range(4):\n",
    "    fic.write(i)\n",
    "fic.close()"
   ]
  },
  {
   "cell_type": "code",
   "execution_count": 12,
   "metadata": {},
   "outputs": [
    {
     "name": "stdout",
     "output_type": "stream",
     "text": [
      "[3, 2, 1, 0]\n"
     ]
    }
   ],
   "source": [
    "def f(el):\n",
    "    return [len(el)] + el\n",
    "el = []\n",
    "for i in range(4):\n",
    "    el = f(el)\n",
    "print(el)\n"
   ]
  },
  {
   "cell_type": "code",
   "execution_count": 13,
   "metadata": {},
   "outputs": [
    {
     "name": "stdout",
     "output_type": "stream",
     "text": [
      "6\n"
     ]
    }
   ],
   "source": [
    "el = []\n",
    "for i in range(10):\n",
    "    l_tmp = []\n",
    "    for j in range(4):\n",
    "        l_tmp.append(2*i+j)\n",
    "    el.append(l_tmp)\n",
    "print(el[2][2])"
   ]
  },
  {
   "cell_type": "code",
   "execution_count": 14,
   "metadata": {},
   "outputs": [
    {
     "name": "stdout",
     "output_type": "stream",
     "text": [
      "5 4\n"
     ]
    }
   ],
   "source": [
    "x, y = 0, 9\n",
    "while x < y:\n",
    "    x, y = x + 1, y - 1\n",
    "print(x, y)"
   ]
  },
  {
   "cell_type": "code",
   "execution_count": 15,
   "metadata": {},
   "outputs": [
    {
     "name": "stdout",
     "output_type": "stream",
     "text": [
      "9 2\n"
     ]
    }
   ],
   "source": [
    "def f(el, e):\n",
    "    e += 1\n",
    "    el[0] += e\n",
    "el, e = [6, 3], 2\n",
    "f(el, e)\n",
    "print(el[0], e)"
   ]
  },
  {
   "cell_type": "code",
   "execution_count": 16,
   "metadata": {},
   "outputs": [
    {
     "name": "stdout",
     "output_type": "stream",
     "text": [
      "[4, 7, 0]\n"
     ]
    }
   ],
   "source": [
    "v = [4, 7, 2]\n",
    "w = [v, v]\n",
    "w[-1][-1] = 0\n",
    "print(v)\n"
   ]
  },
  {
   "cell_type": "code",
   "execution_count": 17,
   "metadata": {},
   "outputs": [
    {
     "name": "stdout",
     "output_type": "stream",
     "text": [
      "toto 14\n"
     ]
    }
   ],
   "source": [
    "def f(a):\n",
    "    return a + a\n",
    "print(f(\"to\"), f(7))"
   ]
  },
  {
   "cell_type": "code",
   "execution_count": null,
   "metadata": {},
   "outputs": [],
   "source": [
    "s = 0\n",
    "for i in range(10):\n",
    "    for j in range(10):\n",
    "        s = s + 1\n",
    "print(s)"
   ]
  }
 ],
 "metadata": {
  "interpreter": {
   "hash": "ad5d0a67683f781fd70b759d698856a252a2af45fd2972ddf6f29281b471455d"
  },
  "kernelspec": {
   "display_name": "Python 3.9.7 ('l1-python')",
   "language": "python",
   "name": "python3"
  },
  "language_info": {
   "codemirror_mode": {
    "name": "ipython",
    "version": 3
   },
   "file_extension": ".py",
   "mimetype": "text/x-python",
   "name": "python",
   "nbconvert_exporter": "python",
   "pygments_lexer": "ipython3",
   "version": "3.9.7"
  },
  "orig_nbformat": 4
 },
 "nbformat": 4,
 "nbformat_minor": 2
}
